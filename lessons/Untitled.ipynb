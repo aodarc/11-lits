{
 "cells": [
  {
   "cell_type": "code",
   "execution_count": 6,
   "metadata": {},
   "outputs": [],
   "source": [
    "def foo(a, b=42, c=11, *args, **kwargs):\n",
    "    print('args: ', args)\n",
    "    print('kwargs: ', kwargs)\n",
    "    return a, b, c"
   ]
  },
  {
   "cell_type": "code",
   "execution_count": null,
   "metadata": {},
   "outputs": [],
   "source": []
  },
  {
   "cell_type": "code",
   "execution_count": null,
   "metadata": {},
   "outputs": [],
   "source": []
  },
  {
   "cell_type": "code",
   "execution_count": 2,
   "metadata": {},
   "outputs": [
    {
     "data": {
      "text/plain": [
       "(-5, 42)"
      ]
     },
     "execution_count": 2,
     "metadata": {},
     "output_type": "execute_result"
    }
   ],
   "source": [
    "foo(-5)"
   ]
  },
  {
   "cell_type": "code",
   "execution_count": 4,
   "metadata": {},
   "outputs": [],
   "source": [
    "b = ((((15 * 2))))"
   ]
  },
  {
   "cell_type": "code",
   "execution_count": 7,
   "metadata": {},
   "outputs": [
    {
     "name": "stdout",
     "output_type": "stream",
     "text": [
      "args:  ()\n",
      "kwargs:  {}\n"
     ]
    },
    {
     "data": {
      "text/plain": [
       "(15, -1, 42)"
      ]
     },
     "execution_count": 7,
     "metadata": {},
     "output_type": "execute_result"
    }
   ],
   "source": [
    "foo(b=-1, c=42, a=15)"
   ]
  },
  {
   "cell_type": "code",
   "execution_count": 8,
   "metadata": {},
   "outputs": [],
   "source": [
    "s = 'abcde'"
   ]
  },
  {
   "cell_type": "code",
   "execution_count": 9,
   "metadata": {},
   "outputs": [
    {
     "data": {
      "text/plain": [
       "['a', 'b', 'c', 'd', 'e']"
      ]
     },
     "execution_count": 9,
     "metadata": {},
     "output_type": "execute_result"
    }
   ],
   "source": [
    "list(s)"
   ]
  },
  {
   "cell_type": "code",
   "execution_count": 10,
   "metadata": {},
   "outputs": [
    {
     "name": "stdout",
     "output_type": "stream",
     "text": [
      "args:  ()\n",
      "kwargs:  {}\n"
     ]
    },
    {
     "data": {
      "text/plain": [
       "(42, 0, -42)"
      ]
     },
     "execution_count": 10,
     "metadata": {},
     "output_type": "execute_result"
    }
   ],
   "source": [
    "foo(42, c=-42, b=0)"
   ]
  },
  {
   "cell_type": "code",
   "execution_count": 11,
   "metadata": {},
   "outputs": [
    {
     "name": "stdout",
     "output_type": "stream",
     "text": [
      "args:  ()\n",
      "kwargs:  {'extra': 666}\n"
     ]
    },
    {
     "data": {
      "text/plain": [
       "(42, 0, -42)"
      ]
     },
     "execution_count": 11,
     "metadata": {},
     "output_type": "execute_result"
    }
   ],
   "source": [
    "foo(42, c=-42, b=0, extra=666)"
   ]
  },
  {
   "cell_type": "code",
   "execution_count": 12,
   "metadata": {},
   "outputs": [
    {
     "name": "stdout",
     "output_type": "stream",
     "text": [
      "args:  (4, 5, 6)\n",
      "kwargs:  {'foo': 42}\n"
     ]
    },
    {
     "data": {
      "text/plain": [
       "(1, 2, 3)"
      ]
     },
     "execution_count": 12,
     "metadata": {},
     "output_type": "execute_result"
    }
   ],
   "source": [
    "foo(1,2,3,4,5,6, foo=42)\n"
   ]
  },
  {
   "cell_type": "code",
   "execution_count": 13,
   "metadata": {},
   "outputs": [],
   "source": [
    "a, b, c = 2,3,4\n"
   ]
  },
  {
   "cell_type": "code",
   "execution_count": 14,
   "metadata": {},
   "outputs": [
    {
     "data": {
      "text/plain": [
       "(2, 4)"
      ]
     },
     "execution_count": 14,
     "metadata": {},
     "output_type": "execute_result"
    }
   ],
   "source": [
    "a, c"
   ]
  },
  {
   "cell_type": "code",
   "execution_count": 15,
   "metadata": {},
   "outputs": [
    {
     "ename": "ValueError",
     "evalue": "too many values to unpack (expected 2)",
     "output_type": "error",
     "traceback": [
      "\u001b[0;31m---------------------------------------------------------------------------\u001b[0m",
      "\u001b[0;31mValueError\u001b[0m                                Traceback (most recent call last)",
      "\u001b[0;32m<ipython-input-15-c6704379ed28>\u001b[0m in \u001b[0;36m<module>\u001b[0;34m()\u001b[0m\n\u001b[0;32m----> 1\u001b[0;31m \u001b[0ma\u001b[0m\u001b[0;34m,\u001b[0m \u001b[0mb\u001b[0m \u001b[0;34m=\u001b[0m \u001b[0;36m2\u001b[0m\u001b[0;34m,\u001b[0m\u001b[0;36m3\u001b[0m\u001b[0;34m,\u001b[0m\u001b[0;36m4\u001b[0m\u001b[0;34m,\u001b[0m\u001b[0;36m5\u001b[0m\u001b[0;34m\u001b[0m\u001b[0;34m\u001b[0m\u001b[0m\n\u001b[0m",
      "\u001b[0;31mValueError\u001b[0m: too many values to unpack (expected 2)"
     ]
    }
   ],
   "source": [
    "a, b = 2,3,4,5"
   ]
  },
  {
   "cell_type": "code",
   "execution_count": 16,
   "metadata": {},
   "outputs": [],
   "source": [
    "a, b, *trash = 1,2,3,3,4,5,6,8"
   ]
  },
  {
   "cell_type": "code",
   "execution_count": 17,
   "metadata": {},
   "outputs": [
    {
     "data": {
      "text/plain": [
       "1"
      ]
     },
     "execution_count": 17,
     "metadata": {},
     "output_type": "execute_result"
    }
   ],
   "source": [
    "a"
   ]
  },
  {
   "cell_type": "code",
   "execution_count": 18,
   "metadata": {},
   "outputs": [
    {
     "data": {
      "text/plain": [
       "2"
      ]
     },
     "execution_count": 18,
     "metadata": {},
     "output_type": "execute_result"
    }
   ],
   "source": [
    "b"
   ]
  },
  {
   "cell_type": "code",
   "execution_count": 19,
   "metadata": {},
   "outputs": [
    {
     "data": {
      "text/plain": [
       "[3, 3, 4, 5, 6, 8]"
      ]
     },
     "execution_count": 19,
     "metadata": {},
     "output_type": "execute_result"
    }
   ],
   "source": [
    "trash"
   ]
  },
  {
   "cell_type": "code",
   "execution_count": 20,
   "metadata": {},
   "outputs": [
    {
     "name": "stdout",
     "output_type": "stream",
     "text": [
      "args:  (4,)\n",
      "kwargs:  {}\n"
     ]
    }
   ],
   "source": [
    "a_val, *_ = foo(1,2,3,4)"
   ]
  },
  {
   "cell_type": "code",
   "execution_count": 21,
   "metadata": {},
   "outputs": [
    {
     "data": {
      "text/plain": [
       "1"
      ]
     },
     "execution_count": 21,
     "metadata": {},
     "output_type": "execute_result"
    }
   ],
   "source": [
    "a_val\n"
   ]
  },
  {
   "cell_type": "code",
   "execution_count": 22,
   "metadata": {},
   "outputs": [
    {
     "data": {
      "text/plain": [
       "[2, 3]"
      ]
     },
     "execution_count": 22,
     "metadata": {},
     "output_type": "execute_result"
    }
   ],
   "source": [
    "_"
   ]
  },
  {
   "cell_type": "code",
   "execution_count": 23,
   "metadata": {},
   "outputs": [
    {
     "name": "stdout",
     "output_type": "stream",
     "text": [
      "hello\n",
      "hello\n",
      "hello\n"
     ]
    }
   ],
   "source": [
    "for _ in range(3):\n",
    "    print('hello')"
   ]
  },
  {
   "cell_type": "code",
   "execution_count": 24,
   "metadata": {},
   "outputs": [],
   "source": [
    "a_val, *_ = (1,2,3)\n"
   ]
  },
  {
   "cell_type": "code",
   "execution_count": 31,
   "metadata": {},
   "outputs": [],
   "source": [
    "def bar():\n",
    "    pass"
   ]
  },
  {
   "cell_type": "code",
   "execution_count": 32,
   "metadata": {},
   "outputs": [
    {
     "data": {
      "text/plain": [
       "NoneType"
      ]
     },
     "execution_count": 32,
     "metadata": {},
     "output_type": "execute_result"
    }
   ],
   "source": [
    "type(bar())"
   ]
  },
  {
   "cell_type": "code",
   "execution_count": 34,
   "metadata": {},
   "outputs": [],
   "source": [
    "bar()"
   ]
  },
  {
   "cell_type": "code",
   "execution_count": null,
   "metadata": {},
   "outputs": [],
   "source": []
  },
  {
   "cell_type": "code",
   "execution_count": 30,
   "metadata": {},
   "outputs": [],
   "source": [
    "bar()"
   ]
  },
  {
   "cell_type": "code",
   "execution_count": null,
   "metadata": {},
   "outputs": [],
   "source": []
  },
  {
   "cell_type": "code",
   "execution_count": 26,
   "metadata": {},
   "outputs": [
    {
     "data": {
      "text/plain": [
       "42"
      ]
     },
     "execution_count": 26,
     "metadata": {},
     "output_type": "execute_result"
    }
   ],
   "source": [
    "bar()"
   ]
  },
  {
   "cell_type": "code",
   "execution_count": 27,
   "metadata": {},
   "outputs": [],
   "source": [
    "a = bar()"
   ]
  },
  {
   "cell_type": "code",
   "execution_count": 28,
   "metadata": {},
   "outputs": [
    {
     "data": {
      "text/plain": [
       "42"
      ]
     },
     "execution_count": 28,
     "metadata": {},
     "output_type": "execute_result"
    }
   ],
   "source": [
    "a\n"
   ]
  },
  {
   "cell_type": "code",
   "execution_count": 35,
   "metadata": {},
   "outputs": [],
   "source": [
    "data = {'a': 15, 'b': 30, 'c': 45}"
   ]
  },
  {
   "cell_type": "code",
   "execution_count": 36,
   "metadata": {},
   "outputs": [
    {
     "name": "stdout",
     "output_type": "stream",
     "text": [
      "args:  ()\n",
      "kwargs:  {}\n"
     ]
    },
    {
     "data": {
      "text/plain": [
       "(15, 30, 45)"
      ]
     },
     "execution_count": 36,
     "metadata": {},
     "output_type": "execute_result"
    }
   ],
   "source": [
    "foo(data['a'], b=data['b'], c=data['c'])"
   ]
  },
  {
   "cell_type": "code",
   "execution_count": 37,
   "metadata": {},
   "outputs": [
    {
     "name": "stdout",
     "output_type": "stream",
     "text": [
      "args:  ()\n",
      "kwargs:  {}\n"
     ]
    },
    {
     "data": {
      "text/plain": [
       "(15, 30, 45)"
      ]
     },
     "execution_count": 37,
     "metadata": {},
     "output_type": "execute_result"
    }
   ],
   "source": [
    "foo(**data)"
   ]
  },
  {
   "cell_type": "code",
   "execution_count": 39,
   "metadata": {},
   "outputs": [],
   "source": [
    "res = data.get('404')"
   ]
  },
  {
   "cell_type": "code",
   "execution_count": 40,
   "metadata": {},
   "outputs": [
    {
     "data": {
      "text/plain": [
       "NoneType"
      ]
     },
     "execution_count": 40,
     "metadata": {},
     "output_type": "execute_result"
    }
   ],
   "source": [
    "type(res)"
   ]
  },
  {
   "cell_type": "code",
   "execution_count": 41,
   "metadata": {},
   "outputs": [],
   "source": [
    "if res is None:\n",
    "    res = 'default' # bad"
   ]
  },
  {
   "cell_type": "code",
   "execution_count": 42,
   "metadata": {},
   "outputs": [],
   "source": [
    "res = data.get('404', 'DEFAULT')"
   ]
  },
  {
   "cell_type": "code",
   "execution_count": 43,
   "metadata": {},
   "outputs": [
    {
     "data": {
      "text/plain": [
       "'DEFAULT'"
      ]
     },
     "execution_count": 43,
     "metadata": {},
     "output_type": "execute_result"
    }
   ],
   "source": [
    "res"
   ]
  },
  {
   "cell_type": "code",
   "execution_count": 44,
   "metadata": {},
   "outputs": [
    {
     "ename": "NameError",
     "evalue": "name 'deta' is not defined",
     "output_type": "error",
     "traceback": [
      "\u001b[0;31m---------------------------------------------------------------------------\u001b[0m",
      "\u001b[0;31mNameError\u001b[0m                                 Traceback (most recent call last)",
      "\u001b[0;32m<ipython-input-44-c7082061e1e9>\u001b[0m in \u001b[0;36m<module>\u001b[0;34m()\u001b[0m\n\u001b[0;32m----> 1\u001b[0;31m \u001b[0mdeta\u001b[0m\u001b[0;34m[\u001b[0m\u001b[0;34m'404'\u001b[0m\u001b[0;34m]\u001b[0m\u001b[0;34m\u001b[0m\u001b[0;34m\u001b[0m\u001b[0m\n\u001b[0m",
      "\u001b[0;31mNameError\u001b[0m: name 'deta' is not defined"
     ]
    }
   ],
   "source": [
    "deta['404']"
   ]
  },
  {
   "cell_type": "code",
   "execution_count": 46,
   "metadata": {},
   "outputs": [
    {
     "name": "stdout",
     "output_type": "stream",
     "text": [
      "0\n",
      "1\n",
      "2\n",
      "3\n"
     ]
    }
   ],
   "source": [
    "for x in range(4):\n",
    "    print(x)"
   ]
  },
  {
   "cell_type": "code",
   "execution_count": 48,
   "metadata": {},
   "outputs": [
    {
     "data": {
      "text/plain": [
       "{'a': 15, 'b': 30, 'c': 45}"
      ]
     },
     "execution_count": 48,
     "metadata": {},
     "output_type": "execute_result"
    }
   ],
   "source": [
    "data"
   ]
  },
  {
   "cell_type": "code",
   "execution_count": 49,
   "metadata": {},
   "outputs": [
    {
     "name": "stdout",
     "output_type": "stream",
     "text": [
      "a\n",
      "b\n",
      "c\n"
     ]
    }
   ],
   "source": [
    "for d in data:\n",
    "    print(d)"
   ]
  },
  {
   "cell_type": "code",
   "execution_count": 51,
   "metadata": {},
   "outputs": [
    {
     "name": "stdout",
     "output_type": "stream",
     "text": [
      "a 15\n",
      "b 30\n",
      "c 45\n"
     ]
    }
   ],
   "source": [
    "for k, v in data.items():\n",
    "    print(k, v)"
   ]
  },
  {
   "cell_type": "code",
   "execution_count": 53,
   "metadata": {},
   "outputs": [
    {
     "name": "stdout",
     "output_type": "stream",
     "text": [
      "0 42\n",
      "1 34\n",
      "2 512\n"
     ]
    }
   ],
   "source": [
    "for inx, k in enumerate([42,34,512]):\n",
    "    print(inx, k)"
   ]
  },
  {
   "cell_type": "code",
   "execution_count": 57,
   "metadata": {},
   "outputs": [
    {
     "name": "stdout",
     "output_type": "stream",
     "text": [
      "1 11 111\n",
      "2 22 333\n",
      "3 33 444\n"
     ]
    }
   ],
   "source": [
    "for x1, x2, x3 in zip([1,2,3,4,5], [11,22,33], [111,333,444,666]):\n",
    "    print(x1, x2, x3)"
   ]
  },
  {
   "cell_type": "code",
   "execution_count": null,
   "metadata": {},
   "outputs": [],
   "source": []
  },
  {
   "cell_type": "code",
   "execution_count": 56,
   "metadata": {},
   "outputs": [
    {
     "name": "stdout",
     "output_type": "stream",
     "text": [
      "1 [11, 111]\n",
      "2 [22, 333]\n",
      "3 [33, 444]\n"
     ]
    }
   ],
   "source": [
    "for x1, *args in zip([1,2,3,4,5], [11,22,33], [111,333,444,666]):\n",
    "    print(x1, args)"
   ]
  },
  {
   "cell_type": "code",
   "execution_count": null,
   "metadata": {},
   "outputs": [],
   "source": []
  },
  {
   "cell_type": "code",
   "execution_count": null,
   "metadata": {},
   "outputs": [],
   "source": []
  },
  {
   "cell_type": "code",
   "execution_count": null,
   "metadata": {},
   "outputs": [],
   "source": [
    "[1,2,3,4,5]\n",
    "[1,2,3]\n",
    "[1,3,4,6]"
   ]
  },
  {
   "cell_type": "code",
   "execution_count": 58,
   "metadata": {},
   "outputs": [
    {
     "data": {
      "text/plain": [
       "{'__name__': '__main__',\n",
       " '__doc__': 'Automatically created module for IPython interactive environment',\n",
       " '__package__': None,\n",
       " '__loader__': None,\n",
       " '__spec__': None,\n",
       " '__builtin__': <module 'builtins' (built-in)>,\n",
       " '__builtins__': <module 'builtins' (built-in)>,\n",
       " '_ih': ['',\n",
       "  'def foo(a, b=42, *args, **kwargs):\\n    return a, b',\n",
       "  'foo(-5)',\n",
       "  'b = ((((15 * 2))))',\n",
       "  'b = ((((15 * 2))))',\n",
       "  \"def foo(a, b=42,*, c=11, *args, **kwargs):\\n    print('args: ', args)\\n    print('kwargs: ', kwargs)\\n    return a, b, c\",\n",
       "  \"def foo(a, b=42, c=11, *args, **kwargs):\\n    print('args: ', args)\\n    print('kwargs: ', kwargs)\\n    return a, b, c\",\n",
       "  'foo(b=-1, c=42, a=15)',\n",
       "  \"s = 'abcde'\",\n",
       "  'list(s)',\n",
       "  'foo(42, c=-42, b=0)',\n",
       "  'foo(42, c=-42, b=0, extra=666)',\n",
       "  'foo(1,2,3,4,5,6, foo=42)',\n",
       "  'a, b, c = 2,3,4',\n",
       "  'a, c',\n",
       "  'a, b = 2,3,4,5',\n",
       "  'a, b, *trash = 1,2,3,3,4,5,6,8',\n",
       "  'a',\n",
       "  'b',\n",
       "  'trash',\n",
       "  'a_val, *_ = foo(1,2,3,4)',\n",
       "  'a_val',\n",
       "  '_',\n",
       "  \"for _ in range(3):\\n    print('hello')\",\n",
       "  'a_val, *_ = (1,2,3)',\n",
       "  'def bar():\\n    return 42',\n",
       "  'bar()',\n",
       "  'a = bar()',\n",
       "  'a',\n",
       "  'def bar():\\n    return',\n",
       "  'bar()',\n",
       "  'def bar():\\n    pass',\n",
       "  'type(bar())',\n",
       "  'bar()',\n",
       "  'bar()',\n",
       "  \"data = {'a': 15, 'b': 30, 'c': 45}\",\n",
       "  \"foo(data['a'], b=data['b'], c=data['c'])\",\n",
       "  'foo(**data)',\n",
       "  \"data.get('404')\",\n",
       "  \"res = data.get('404')\",\n",
       "  'type(res)',\n",
       "  \"if res is None:\\n    res = 'default' # bad\",\n",
       "  \"res = data.get('404', 'DEFAULT')\",\n",
       "  'res',\n",
       "  \"deta['404']\",\n",
       "  'for x in range(4):',\n",
       "  'for x in range(4):\\n    print(x)',\n",
       "  'x',\n",
       "  'data',\n",
       "  'for d in data:\\n    print(d)',\n",
       "  'for k, v in data.values():\\n    print(k, v)',\n",
       "  'for k, v in data.items():\\n    print(k, v)',\n",
       "  'for inx, k in enumerate(data):\\n    print(inx, k)',\n",
       "  'for inx, k in enumerate([42,34,512]):\\n    print(inx, k)',\n",
       "  'for x1, x2, x3 in zip([1,2,3,4,5], [1,2,3], [1,3,4,6]):\\n    print(x1, x2, x3)',\n",
       "  'for x1, x2, x3 in zip([1,2,3,4,5], [11,22,33], [111,333,444,666]):\\n    print(x1, x2, x3)',\n",
       "  'for x1, *args in zip([1,2,3,4,5], [11,22,33], [111,333,444,666]):\\n    print(x1, args)',\n",
       "  'for x1, x2, x3 in zip([1,2,3,4,5], [11,22,33], [111,333,444,666]):\\n    print(x1, x2, x3)',\n",
       "  'globals()'],\n",
       " '_oh': {2: (-5, 42),\n",
       "  7: (15, -1, 42),\n",
       "  9: ['a', 'b', 'c', 'd', 'e'],\n",
       "  10: (42, 0, -42),\n",
       "  11: (42, 0, -42),\n",
       "  12: (1, 2, 3),\n",
       "  14: (2, 4),\n",
       "  17: 1,\n",
       "  18: 2,\n",
       "  19: [3, 3, 4, 5, 6, 8],\n",
       "  21: 1,\n",
       "  22: [2, 3],\n",
       "  26: 42,\n",
       "  28: 42,\n",
       "  32: NoneType,\n",
       "  36: (15, 30, 45),\n",
       "  37: (15, 30, 45),\n",
       "  40: NoneType,\n",
       "  43: 'DEFAULT',\n",
       "  47: 3,\n",
       "  48: {'a': 15, 'b': 30, 'c': 45}},\n",
       " '_dh': ['/Users/tix/Documents/11-lits/lessons'],\n",
       " 'In': ['',\n",
       "  'def foo(a, b=42, *args, **kwargs):\\n    return a, b',\n",
       "  'foo(-5)',\n",
       "  'b = ((((15 * 2))))',\n",
       "  'b = ((((15 * 2))))',\n",
       "  \"def foo(a, b=42,*, c=11, *args, **kwargs):\\n    print('args: ', args)\\n    print('kwargs: ', kwargs)\\n    return a, b, c\",\n",
       "  \"def foo(a, b=42, c=11, *args, **kwargs):\\n    print('args: ', args)\\n    print('kwargs: ', kwargs)\\n    return a, b, c\",\n",
       "  'foo(b=-1, c=42, a=15)',\n",
       "  \"s = 'abcde'\",\n",
       "  'list(s)',\n",
       "  'foo(42, c=-42, b=0)',\n",
       "  'foo(42, c=-42, b=0, extra=666)',\n",
       "  'foo(1,2,3,4,5,6, foo=42)',\n",
       "  'a, b, c = 2,3,4',\n",
       "  'a, c',\n",
       "  'a, b = 2,3,4,5',\n",
       "  'a, b, *trash = 1,2,3,3,4,5,6,8',\n",
       "  'a',\n",
       "  'b',\n",
       "  'trash',\n",
       "  'a_val, *_ = foo(1,2,3,4)',\n",
       "  'a_val',\n",
       "  '_',\n",
       "  \"for _ in range(3):\\n    print('hello')\",\n",
       "  'a_val, *_ = (1,2,3)',\n",
       "  'def bar():\\n    return 42',\n",
       "  'bar()',\n",
       "  'a = bar()',\n",
       "  'a',\n",
       "  'def bar():\\n    return',\n",
       "  'bar()',\n",
       "  'def bar():\\n    pass',\n",
       "  'type(bar())',\n",
       "  'bar()',\n",
       "  'bar()',\n",
       "  \"data = {'a': 15, 'b': 30, 'c': 45}\",\n",
       "  \"foo(data['a'], b=data['b'], c=data['c'])\",\n",
       "  'foo(**data)',\n",
       "  \"data.get('404')\",\n",
       "  \"res = data.get('404')\",\n",
       "  'type(res)',\n",
       "  \"if res is None:\\n    res = 'default' # bad\",\n",
       "  \"res = data.get('404', 'DEFAULT')\",\n",
       "  'res',\n",
       "  \"deta['404']\",\n",
       "  'for x in range(4):',\n",
       "  'for x in range(4):\\n    print(x)',\n",
       "  'x',\n",
       "  'data',\n",
       "  'for d in data:\\n    print(d)',\n",
       "  'for k, v in data.values():\\n    print(k, v)',\n",
       "  'for k, v in data.items():\\n    print(k, v)',\n",
       "  'for inx, k in enumerate(data):\\n    print(inx, k)',\n",
       "  'for inx, k in enumerate([42,34,512]):\\n    print(inx, k)',\n",
       "  'for x1, x2, x3 in zip([1,2,3,4,5], [1,2,3], [1,3,4,6]):\\n    print(x1, x2, x3)',\n",
       "  'for x1, x2, x3 in zip([1,2,3,4,5], [11,22,33], [111,333,444,666]):\\n    print(x1, x2, x3)',\n",
       "  'for x1, *args in zip([1,2,3,4,5], [11,22,33], [111,333,444,666]):\\n    print(x1, args)',\n",
       "  'for x1, x2, x3 in zip([1,2,3,4,5], [11,22,33], [111,333,444,666]):\\n    print(x1, x2, x3)',\n",
       "  'globals()'],\n",
       " 'Out': {2: (-5, 42),\n",
       "  7: (15, -1, 42),\n",
       "  9: ['a', 'b', 'c', 'd', 'e'],\n",
       "  10: (42, 0, -42),\n",
       "  11: (42, 0, -42),\n",
       "  12: (1, 2, 3),\n",
       "  14: (2, 4),\n",
       "  17: 1,\n",
       "  18: 2,\n",
       "  19: [3, 3, 4, 5, 6, 8],\n",
       "  21: 1,\n",
       "  22: [2, 3],\n",
       "  26: 42,\n",
       "  28: 42,\n",
       "  32: NoneType,\n",
       "  36: (15, 30, 45),\n",
       "  37: (15, 30, 45),\n",
       "  40: NoneType,\n",
       "  43: 'DEFAULT',\n",
       "  47: 3,\n",
       "  48: {'a': 15, 'b': 30, 'c': 45}},\n",
       " 'get_ipython': <bound method InteractiveShell.get_ipython of <ipykernel.zmqshell.ZMQInteractiveShell object at 0x10ba0f438>>,\n",
       " 'exit': <IPython.core.autocall.ZMQExitAutocall at 0x10bf86898>,\n",
       " 'quit': <IPython.core.autocall.ZMQExitAutocall at 0x10bf86898>,\n",
       " '_': [2, 3],\n",
       " '__': 2,\n",
       " '___': 1,\n",
       " '_i': 'for x1, x2, x3 in zip([1,2,3,4,5], [11,22,33], [111,333,444,666]):\\n    print(x1, x2, x3)',\n",
       " '_ii': 'for x1, *args in zip([1,2,3,4,5], [11,22,33], [111,333,444,666]):\\n    print(x1, args)',\n",
       " '_iii': 'for x1, x2, x3 in zip([1,2,3,4,5], [11,22,33], [111,333,444,666]):\\n    print(x1, x2, x3)',\n",
       " '_i1': 'def foo(a, b=42, *args, **kwargs):\\n    return a, b',\n",
       " 'foo': <function __main__.foo(a, b=42, c=11, *args, **kwargs)>,\n",
       " '_i2': 'foo(-5)',\n",
       " '_2': (-5, 42),\n",
       " '_i3': 'b = ((((15 * 2))))',\n",
       " 'b': 2,\n",
       " '_i4': 'b = ((((15 * 2))))',\n",
       " '_i5': \"def foo(a, b=42,*, c=11, *args, **kwargs):\\n    print('args: ', args)\\n    print('kwargs: ', kwargs)\\n    return a, b, c\",\n",
       " '_i6': \"def foo(a, b=42, c=11, *args, **kwargs):\\n    print('args: ', args)\\n    print('kwargs: ', kwargs)\\n    return a, b, c\",\n",
       " '_i7': 'foo(b=-1, c=42, a=15)',\n",
       " '_7': (15, -1, 42),\n",
       " '_i8': \"s = 'abcde'\",\n",
       " 's': 'abcde',\n",
       " '_i9': 'list(s)',\n",
       " '_9': ['a', 'b', 'c', 'd', 'e'],\n",
       " '_i10': 'foo(42, c=-42, b=0)',\n",
       " '_10': (42, 0, -42),\n",
       " '_i11': 'foo(42, c=-42, b=0, extra=666)',\n",
       " '_11': (42, 0, -42),\n",
       " '_i12': 'foo(1,2,3,4,5,6, foo=42)',\n",
       " '_12': (1, 2, 3),\n",
       " '_i13': 'a, b, c = 2,3,4',\n",
       " 'a': 42,\n",
       " 'c': 4,\n",
       " '_i14': 'a, c',\n",
       " '_14': (2, 4),\n",
       " '_i15': 'a, b = 2,3,4,5',\n",
       " '_i16': 'a, b, *trash = 1,2,3,3,4,5,6,8',\n",
       " 'trash': [3, 3, 4, 5, 6, 8],\n",
       " '_i17': 'a',\n",
       " '_17': 1,\n",
       " '_i18': 'b',\n",
       " '_18': 2,\n",
       " '_i19': 'trash',\n",
       " '_19': [3, 3, 4, 5, 6, 8],\n",
       " '_i20': 'a_val, *_ = foo(1,2,3,4)',\n",
       " 'a_val': 1,\n",
       " '_i21': 'a_val',\n",
       " '_21': 1,\n",
       " '_i22': '_',\n",
       " '_22': [2, 3],\n",
       " '_i23': \"for _ in range(3):\\n    print('hello')\",\n",
       " '_i24': 'a_val, *_ = (1,2,3)',\n",
       " '_i25': 'def bar():\\n    return 42',\n",
       " 'bar': <function __main__.bar()>,\n",
       " '_i26': 'bar()',\n",
       " '_26': 42,\n",
       " '_i27': 'a = bar()',\n",
       " '_i28': 'a',\n",
       " '_28': 42,\n",
       " '_i29': 'def bar():\\n    return',\n",
       " '_i30': 'bar()',\n",
       " '_i31': 'def bar():\\n    pass',\n",
       " '_i32': 'type(bar())',\n",
       " '_32': NoneType,\n",
       " '_i33': 'bar()',\n",
       " '_i34': 'bar()',\n",
       " '_i35': \"data = {'a': 15, 'b': 30, 'c': 45}\",\n",
       " 'data': {'a': 15, 'b': 30, 'c': 45},\n",
       " '_i36': \"foo(data['a'], b=data['b'], c=data['c'])\",\n",
       " '_36': (15, 30, 45),\n",
       " '_i37': 'foo(**data)',\n",
       " '_37': (15, 30, 45),\n",
       " '_i38': \"data.get('404')\",\n",
       " '_i39': \"res = data.get('404')\",\n",
       " 'res': 'DEFAULT',\n",
       " '_i40': 'type(res)',\n",
       " '_40': NoneType,\n",
       " '_i41': \"if res is None:\\n    res = 'default' # bad\",\n",
       " '_i42': \"res = data.get('404', 'DEFAULT')\",\n",
       " '_i43': 'res',\n",
       " '_43': 'DEFAULT',\n",
       " '_i44': \"deta['404']\",\n",
       " '_i45': 'for x in range(4):',\n",
       " '_i46': 'for x in range(4):\\n    print(x)',\n",
       " 'x': 3,\n",
       " '_i47': 'x',\n",
       " '_47': 3,\n",
       " '_i48': 'data',\n",
       " '_48': {'a': 15, 'b': 30, 'c': 45},\n",
       " '_i49': 'for d in data:\\n    print(d)',\n",
       " 'd': 'c',\n",
       " '_i50': 'for k, v in data.values():\\n    print(k, v)',\n",
       " '_i51': 'for k, v in data.items():\\n    print(k, v)',\n",
       " 'k': 512,\n",
       " 'v': 45,\n",
       " '_i52': 'for inx, k in enumerate(data):\\n    print(inx, k)',\n",
       " 'inx': 2,\n",
       " '_i53': 'for inx, k in enumerate([42,34,512]):\\n    print(inx, k)',\n",
       " '_i54': 'for x1, x2, x3 in zip([1,2,3,4,5], [1,2,3], [1,3,4,6]):\\n    print(x1, x2, x3)',\n",
       " 'x1': 3,\n",
       " 'x2': 33,\n",
       " 'x3': 444,\n",
       " '_i55': 'for x1, x2, x3 in zip([1,2,3,4,5], [11,22,33], [111,333,444,666]):\\n    print(x1, x2, x3)',\n",
       " '_i56': 'for x1, *args in zip([1,2,3,4,5], [11,22,33], [111,333,444,666]):\\n    print(x1, args)',\n",
       " 'args': [33, 444],\n",
       " '_i57': 'for x1, x2, x3 in zip([1,2,3,4,5], [11,22,33], [111,333,444,666]):\\n    print(x1, x2, x3)',\n",
       " '_i58': 'globals()'}"
      ]
     },
     "execution_count": 58,
     "metadata": {},
     "output_type": "execute_result"
    }
   ],
   "source": [
    "globals()"
   ]
  },
  {
   "cell_type": "code",
   "execution_count": 59,
   "metadata": {},
   "outputs": [],
   "source": [
    "def foo(a=42):\n",
    "    if a > 0:\n",
    "        b = -42\n",
    "    return b"
   ]
  },
  {
   "cell_type": "code",
   "execution_count": 60,
   "metadata": {},
   "outputs": [
    {
     "ename": "UnboundLocalError",
     "evalue": "local variable 'b' referenced before assignment",
     "output_type": "error",
     "traceback": [
      "\u001b[0;31m---------------------------------------------------------------------------\u001b[0m",
      "\u001b[0;31mUnboundLocalError\u001b[0m                         Traceback (most recent call last)",
      "\u001b[0;32m<ipython-input-60-3b503b704e14>\u001b[0m in \u001b[0;36m<module>\u001b[0;34m()\u001b[0m\n\u001b[0;32m----> 1\u001b[0;31m \u001b[0mfoo\u001b[0m\u001b[0;34m(\u001b[0m\u001b[0;34m-\u001b[0m\u001b[0;36m5\u001b[0m\u001b[0;34m)\u001b[0m\u001b[0;34m\u001b[0m\u001b[0;34m\u001b[0m\u001b[0m\n\u001b[0m",
      "\u001b[0;32m<ipython-input-59-6eee6b9720bb>\u001b[0m in \u001b[0;36mfoo\u001b[0;34m(a)\u001b[0m\n\u001b[1;32m      2\u001b[0m     \u001b[0;32mif\u001b[0m \u001b[0ma\u001b[0m \u001b[0;34m>\u001b[0m \u001b[0;36m0\u001b[0m\u001b[0;34m:\u001b[0m\u001b[0;34m\u001b[0m\u001b[0;34m\u001b[0m\u001b[0m\n\u001b[1;32m      3\u001b[0m         \u001b[0mb\u001b[0m \u001b[0;34m=\u001b[0m \u001b[0;34m-\u001b[0m\u001b[0;36m42\u001b[0m\u001b[0;34m\u001b[0m\u001b[0;34m\u001b[0m\u001b[0m\n\u001b[0;32m----> 4\u001b[0;31m     \u001b[0;32mreturn\u001b[0m \u001b[0mb\u001b[0m\u001b[0;34m\u001b[0m\u001b[0;34m\u001b[0m\u001b[0m\n\u001b[0m",
      "\u001b[0;31mUnboundLocalError\u001b[0m: local variable 'b' referenced before assignment"
     ]
    }
   ],
   "source": [
    "foo(-5)"
   ]
  },
  {
   "cell_type": "code",
   "execution_count": 61,
   "metadata": {},
   "outputs": [],
   "source": [
    "global_var = 42\n"
   ]
  },
  {
   "cell_type": "code",
   "execution_count": 65,
   "metadata": {},
   "outputs": [],
   "source": [
    "def foo():\n",
    "    global_var = 44\n",
    "    local_var = -5"
   ]
  },
  {
   "cell_type": "code",
   "execution_count": null,
   "metadata": {},
   "outputs": [],
   "source": []
  },
  {
   "cell_type": "code",
   "execution_count": 63,
   "metadata": {},
   "outputs": [],
   "source": [
    "foo()\n"
   ]
  },
  {
   "cell_type": "code",
   "execution_count": 64,
   "metadata": {},
   "outputs": [
    {
     "data": {
      "text/plain": [
       "42"
      ]
     },
     "execution_count": 64,
     "metadata": {},
     "output_type": "execute_result"
    }
   ],
   "source": [
    "global_var\n"
   ]
  },
  {
   "cell_type": "code",
   "execution_count": 66,
   "metadata": {},
   "outputs": [],
   "source": [
    "foo()"
   ]
  },
  {
   "cell_type": "code",
   "execution_count": 67,
   "metadata": {},
   "outputs": [
    {
     "ename": "NameError",
     "evalue": "name 'local_var' is not defined",
     "output_type": "error",
     "traceback": [
      "\u001b[0;31m---------------------------------------------------------------------------\u001b[0m",
      "\u001b[0;31mNameError\u001b[0m                                 Traceback (most recent call last)",
      "\u001b[0;32m<ipython-input-67-8852b4c53ffd>\u001b[0m in \u001b[0;36m<module>\u001b[0;34m()\u001b[0m\n\u001b[0;32m----> 1\u001b[0;31m \u001b[0mlocal_var\u001b[0m\u001b[0;34m\u001b[0m\u001b[0;34m\u001b[0m\u001b[0m\n\u001b[0m",
      "\u001b[0;31mNameError\u001b[0m: name 'local_var' is not defined"
     ]
    }
   ],
   "source": [
    "local_var\n"
   ]
  },
  {
   "cell_type": "code",
   "execution_count": 79,
   "metadata": {},
   "outputs": [],
   "source": [
    "l = [1,2,3]"
   ]
  },
  {
   "cell_type": "code",
   "execution_count": null,
   "metadata": {},
   "outputs": [],
   "source": []
  },
  {
   "cell_type": "code",
   "execution_count": 76,
   "metadata": {},
   "outputs": [],
   "source": [
    "def bar(lst: list) -> None:\n",
    "    lst.append(-42)\n",
    "    print(lst)\n",
    "    "
   ]
  },
  {
   "cell_type": "code",
   "execution_count": null,
   "metadata": {},
   "outputs": [],
   "source": []
  },
  {
   "cell_type": "code",
   "execution_count": 72,
   "metadata": {},
   "outputs": [
    {
     "data": {
      "text/plain": [
       "[1, 2, 3]"
      ]
     },
     "execution_count": 72,
     "metadata": {},
     "output_type": "execute_result"
    }
   ],
   "source": [
    "l\n"
   ]
  },
  {
   "cell_type": "code",
   "execution_count": 80,
   "metadata": {},
   "outputs": [
    {
     "name": "stdout",
     "output_type": "stream",
     "text": [
      "[1, 2, 3, -42]\n"
     ]
    }
   ],
   "source": [
    "bar(l)"
   ]
  },
  {
   "cell_type": "code",
   "execution_count": null,
   "metadata": {},
   "outputs": [],
   "source": []
  },
  {
   "cell_type": "code",
   "execution_count": 81,
   "metadata": {},
   "outputs": [
    {
     "data": {
      "text/plain": [
       "[1, 2, 3, -42]"
      ]
     },
     "execution_count": 81,
     "metadata": {},
     "output_type": "execute_result"
    }
   ],
   "source": [
    "l"
   ]
  },
  {
   "cell_type": "code",
   "execution_count": 83,
   "metadata": {},
   "outputs": [],
   "source": [
    "foo = 1\n"
   ]
  },
  {
   "cell_type": "code",
   "execution_count": 84,
   "metadata": {},
   "outputs": [],
   "source": [
    "foo += 1"
   ]
  },
  {
   "cell_type": "code",
   "execution_count": 85,
   "metadata": {},
   "outputs": [
    {
     "data": {
      "text/plain": [
       "2"
      ]
     },
     "execution_count": 85,
     "metadata": {},
     "output_type": "execute_result"
    }
   ],
   "source": [
    "foo"
   ]
  },
  {
   "cell_type": "code",
   "execution_count": null,
   "metadata": {},
   "outputs": [],
   "source": [
    "foo = foo + 1"
   ]
  },
  {
   "cell_type": "code",
   "execution_count": 86,
   "metadata": {},
   "outputs": [
    {
     "data": {
      "text/plain": [
       "[1, 2, 3, -42]"
      ]
     },
     "execution_count": 86,
     "metadata": {},
     "output_type": "execute_result"
    }
   ],
   "source": [
    "l"
   ]
  },
  {
   "cell_type": "code",
   "execution_count": 88,
   "metadata": {},
   "outputs": [],
   "source": [
    "def bar():\n",
    "    l.pop(-1)"
   ]
  },
  {
   "cell_type": "code",
   "execution_count": 89,
   "metadata": {},
   "outputs": [
    {
     "ename": "NameError",
     "evalue": "name 'aaa' is not defined",
     "output_type": "error",
     "traceback": [
      "\u001b[0;31m---------------------------------------------------------------------------\u001b[0m",
      "\u001b[0;31mNameError\u001b[0m                                 Traceback (most recent call last)",
      "\u001b[0;32m<ipython-input-89-972a1a11f199>\u001b[0m in \u001b[0;36m<module>\u001b[0;34m()\u001b[0m\n\u001b[0;32m----> 1\u001b[0;31m \u001b[0maaa\u001b[0m\u001b[0;34m\u001b[0m\u001b[0;34m\u001b[0m\u001b[0m\n\u001b[0m",
      "\u001b[0;31mNameError\u001b[0m: name 'aaa' is not defined"
     ]
    }
   ],
   "source": [
    "aaa"
   ]
  },
  {
   "cell_type": "code",
   "execution_count": 90,
   "metadata": {},
   "outputs": [],
   "source": [
    "bar()"
   ]
  },
  {
   "cell_type": "code",
   "execution_count": 91,
   "metadata": {},
   "outputs": [
    {
     "data": {
      "text/plain": [
       "[1, 2, 3]"
      ]
     },
     "execution_count": 91,
     "metadata": {},
     "output_type": "execute_result"
    }
   ],
   "source": [
    "l"
   ]
  },
  {
   "cell_type": "code",
   "execution_count": 93,
   "metadata": {},
   "outputs": [],
   "source": [
    "def bar():\n",
    "    l = [42,-42,11]\n",
    "    return l.pop(-2)"
   ]
  },
  {
   "cell_type": "code",
   "execution_count": 94,
   "metadata": {},
   "outputs": [
    {
     "data": {
      "text/plain": [
       "-42"
      ]
     },
     "execution_count": 94,
     "metadata": {},
     "output_type": "execute_result"
    }
   ],
   "source": [
    "bar()"
   ]
  },
  {
   "cell_type": "code",
   "execution_count": 95,
   "metadata": {},
   "outputs": [
    {
     "data": {
      "text/plain": [
       "-42"
      ]
     },
     "execution_count": 95,
     "metadata": {},
     "output_type": "execute_result"
    }
   ],
   "source": [
    "bar()"
   ]
  },
  {
   "cell_type": "code",
   "execution_count": 98,
   "metadata": {},
   "outputs": [],
   "source": [
    "def foo():\n",
    "    a = 42\n",
    "    \n",
    "    def bar():\n",
    "        nonlocal a\n",
    "        a = -42\n",
    "    bar()\n",
    "    return a\n",
    "    "
   ]
  },
  {
   "cell_type": "code",
   "execution_count": 99,
   "metadata": {},
   "outputs": [
    {
     "data": {
      "text/plain": [
       "-42"
      ]
     },
     "execution_count": 99,
     "metadata": {},
     "output_type": "execute_result"
    }
   ],
   "source": [
    "foo()"
   ]
  },
  {
   "cell_type": "code",
   "execution_count": 101,
   "metadata": {},
   "outputs": [],
   "source": [
    "def foo():\n",
    "    for x in range(42):\n",
    "        pass"
   ]
  },
  {
   "cell_type": "code",
   "execution_count": 102,
   "metadata": {},
   "outputs": [
    {
     "data": {
      "text/plain": [
       "3"
      ]
     },
     "execution_count": 102,
     "metadata": {},
     "output_type": "execute_result"
    }
   ],
   "source": [
    "x"
   ]
  },
  {
   "cell_type": "code",
   "execution_count": 103,
   "metadata": {},
   "outputs": [],
   "source": [
    "foo()"
   ]
  },
  {
   "cell_type": "code",
   "execution_count": 104,
   "metadata": {},
   "outputs": [
    {
     "data": {
      "text/plain": [
       "3"
      ]
     },
     "execution_count": 104,
     "metadata": {},
     "output_type": "execute_result"
    }
   ],
   "source": [
    "x\n"
   ]
  },
  {
   "cell_type": "code",
   "execution_count": 105,
   "metadata": {},
   "outputs": [],
   "source": [
    "for i in range(54):\n",
    "    pass"
   ]
  },
  {
   "cell_type": "code",
   "execution_count": 106,
   "metadata": {},
   "outputs": [
    {
     "data": {
      "text/plain": [
       "53"
      ]
     },
     "execution_count": 106,
     "metadata": {},
     "output_type": "execute_result"
    }
   ],
   "source": [
    "i"
   ]
  },
  {
   "cell_type": "code",
   "execution_count": 107,
   "metadata": {},
   "outputs": [],
   "source": [
    "l = list(range(10))"
   ]
  },
  {
   "cell_type": "code",
   "execution_count": 108,
   "metadata": {},
   "outputs": [
    {
     "data": {
      "text/plain": [
       "[0, 1, 2, 3, 4, 5, 6, 7, 8, 9]"
      ]
     },
     "execution_count": 108,
     "metadata": {},
     "output_type": "execute_result"
    }
   ],
   "source": [
    "l"
   ]
  },
  {
   "cell_type": "code",
   "execution_count": 109,
   "metadata": {},
   "outputs": [],
   "source": [
    "data = [-1, -2, -3, 63, -5, 52]"
   ]
  },
  {
   "cell_type": "code",
   "execution_count": 114,
   "metadata": {},
   "outputs": [],
   "source": [
    "def positive_numbers(lst: list) -> list:\n",
    "    return list(filter(lambda elem: elem > 0, lst))"
   ]
  },
  {
   "cell_type": "code",
   "execution_count": 116,
   "metadata": {},
   "outputs": [],
   "source": [
    "def positive_numbers2(lst):\n",
    "    res = []\n",
    "    for elem in lst:\n",
    "        if elem > 0:\n",
    "            res.append()\n",
    "    return res"
   ]
  },
  {
   "cell_type": "code",
   "execution_count": 117,
   "metadata": {},
   "outputs": [],
   "source": [
    "def positive_numbers3(lst):\n",
    "    return [elem for elem in lst if elem > 0]"
   ]
  },
  {
   "cell_type": "code",
   "execution_count": 121,
   "metadata": {},
   "outputs": [],
   "source": [
    "data = [{'value':i**2} for i in range(10)]"
   ]
  },
  {
   "cell_type": "code",
   "execution_count": null,
   "metadata": {},
   "outputs": [],
   "source": []
  },
  {
   "cell_type": "code",
   "execution_count": 122,
   "metadata": {},
   "outputs": [
    {
     "data": {
      "text/plain": [
       "[{'value': 0},\n",
       " {'value': 1},\n",
       " {'value': 4},\n",
       " {'value': 9},\n",
       " {'value': 16},\n",
       " {'value': 25},\n",
       " {'value': 36},\n",
       " {'value': 49},\n",
       " {'value': 64},\n",
       " {'value': 81}]"
      ]
     },
     "execution_count": 122,
     "metadata": {},
     "output_type": "execute_result"
    }
   ],
   "source": [
    "data"
   ]
  },
  {
   "cell_type": "code",
   "execution_count": null,
   "metadata": {},
   "outputs": [],
   "source": []
  },
  {
   "cell_type": "code",
   "execution_count": 124,
   "metadata": {},
   "outputs": [
    {
     "data": {
      "text/plain": [
       "[{'value': 0}, {'value': 4}, {'value': 16}, {'value': 36}, {'value': 64}]"
      ]
     },
     "execution_count": 124,
     "metadata": {},
     "output_type": "execute_result"
    }
   ],
   "source": [
    "list(filter(lambda el: not el['value'] % 2, data))"
   ]
  },
  {
   "cell_type": "code",
   "execution_count": 125,
   "metadata": {},
   "outputs": [],
   "source": [
    "data = ['sss', 'asgasgsa', 'aasgalksbnlasbl']"
   ]
  },
  {
   "cell_type": "code",
   "execution_count": 126,
   "metadata": {},
   "outputs": [
    {
     "data": {
      "text/plain": [
       "[3, 8, 15]"
      ]
     },
     "execution_count": 126,
     "metadata": {},
     "output_type": "execute_result"
    }
   ],
   "source": [
    "list(map(lambda el: len(el), data))"
   ]
  },
  {
   "cell_type": "code",
   "execution_count": 127,
   "metadata": {},
   "outputs": [],
   "source": [
    "data2 = [1,2,3,4,5,6,7]"
   ]
  },
  {
   "cell_type": "code",
   "execution_count": 128,
   "metadata": {},
   "outputs": [
    {
     "data": {
      "text/plain": [
       "[1, 4, 9, 16, 25, 36, 49]"
      ]
     },
     "execution_count": 128,
     "metadata": {},
     "output_type": "execute_result"
    }
   ],
   "source": [
    "list(map(lambda el: el**2, data2))"
   ]
  },
  {
   "cell_type": "code",
   "execution_count": 129,
   "metadata": {},
   "outputs": [],
   "source": [
    "def mp(el):\n",
    "    return el**2"
   ]
  },
  {
   "cell_type": "code",
   "execution_count": 130,
   "metadata": {},
   "outputs": [
    {
     "data": {
      "text/plain": [
       "[1, 4, 9, 16, 25, 36, 49]"
      ]
     },
     "execution_count": 130,
     "metadata": {},
     "output_type": "execute_result"
    }
   ],
   "source": [
    "list(map(mp, data2))"
   ]
  },
  {
   "cell_type": "code",
   "execution_count": 131,
   "metadata": {},
   "outputs": [
    {
     "data": {
      "text/plain": [
       "['1', '2', '3', '4', '5', '6', '7']"
      ]
     },
     "execution_count": 131,
     "metadata": {},
     "output_type": "execute_result"
    }
   ],
   "source": [
    "list(map(str, data2))"
   ]
  },
  {
   "cell_type": "code",
   "execution_count": null,
   "metadata": {},
   "outputs": [],
   "source": []
  },
  {
   "cell_type": "code",
   "execution_count": null,
   "metadata": {},
   "outputs": [],
   "source": []
  },
  {
   "cell_type": "code",
   "execution_count": null,
   "metadata": {},
   "outputs": [],
   "source": []
  },
  {
   "cell_type": "code",
   "execution_count": null,
   "metadata": {},
   "outputs": [],
   "source": []
  },
  {
   "cell_type": "code",
   "execution_count": 115,
   "metadata": {},
   "outputs": [
    {
     "data": {
      "text/plain": [
       "[63, 52]"
      ]
     },
     "execution_count": 115,
     "metadata": {},
     "output_type": "execute_result"
    }
   ],
   "source": [
    "positive_numbers(data)"
   ]
  },
  {
   "cell_type": "code",
   "execution_count": null,
   "metadata": {},
   "outputs": [],
   "source": []
  },
  {
   "cell_type": "code",
   "execution_count": null,
   "metadata": {},
   "outputs": [],
   "source": []
  },
  {
   "cell_type": "code",
   "execution_count": null,
   "metadata": {},
   "outputs": [],
   "source": []
  },
  {
   "cell_type": "code",
   "execution_count": null,
   "metadata": {},
   "outputs": [],
   "source": []
  },
  {
   "cell_type": "code",
   "execution_count": null,
   "metadata": {},
   "outputs": [],
   "source": []
  },
  {
   "cell_type": "code",
   "execution_count": null,
   "metadata": {},
   "outputs": [],
   "source": []
  },
  {
   "cell_type": "code",
   "execution_count": null,
   "metadata": {},
   "outputs": [],
   "source": []
  },
  {
   "cell_type": "code",
   "execution_count": null,
   "metadata": {},
   "outputs": [],
   "source": []
  },
  {
   "cell_type": "code",
   "execution_count": null,
   "metadata": {},
   "outputs": [],
   "source": []
  },
  {
   "cell_type": "code",
   "execution_count": null,
   "metadata": {},
   "outputs": [],
   "source": []
  },
  {
   "cell_type": "code",
   "execution_count": null,
   "metadata": {},
   "outputs": [],
   "source": []
  }
 ],
 "metadata": {
  "kernelspec": {
   "display_name": "Python 3",
   "language": "python",
   "name": "python3"
  },
  "language_info": {
   "codemirror_mode": {
    "name": "ipython",
    "version": 3
   },
   "file_extension": ".py",
   "mimetype": "text/x-python",
   "name": "python",
   "nbconvert_exporter": "python",
   "pygments_lexer": "ipython3",
   "version": "3.7.3"
  }
 },
 "nbformat": 4,
 "nbformat_minor": 2
}
